{
 "cells": [
  {
   "cell_type": "code",
   "execution_count": 1,
   "id": "3e91ddf2",
   "metadata": {},
   "outputs": [
    {
     "name": "stdout",
     "output_type": "stream",
     "text": [
      "\r",
      "List Trainer: [##                  ] 12%"
     ]
    },
    {
     "name": "stderr",
     "output_type": "stream",
     "text": [
      "[nltk_data] Downloading package averaged_perceptron_tagger to\n",
      "[nltk_data]     C:\\Users\\Sudhasree D\\AppData\\Roaming\\nltk_data...\n",
      "[nltk_data]   Package averaged_perceptron_tagger is already up-to-\n",
      "[nltk_data]       date!\n",
      "[nltk_data] Downloading package punkt to C:\\Users\\Sudhasree\n",
      "[nltk_data]     D\\AppData\\Roaming\\nltk_data...\n",
      "[nltk_data]   Package punkt is already up-to-date!\n",
      "[nltk_data] Downloading package stopwords to C:\\Users\\Sudhasree\n",
      "[nltk_data]     D\\AppData\\Roaming\\nltk_data...\n",
      "[nltk_data]   Package stopwords is already up-to-date!\n"
     ]
    },
    {
     "name": "stdout",
     "output_type": "stream",
     "text": [
      "List Trainer: [####################] 100%\n",
      "enter 'quit' to stop\n",
      "You: Hi\n",
      "Bot: Hello\n",
      "You: How are you doing?\n",
      "Bot: I'm doing great.\n",
      "You: quit\n"
     ]
    }
   ],
   "source": [
    "from chatterbot.trainers import ListTrainer\n",
    "from chatterbot import ChatBot\n",
    "import time\n",
    "time.clock=time.time\n",
    "\n",
    "chatbot = ChatBot(\"New_Bot\")\n",
    "conversation = [\n",
    "    \"Hello\",\n",
    "    \"Hi, there!\",\n",
    "    \"How are you doing?\",\n",
    "    \"I'm doing great.\",\n",
    "    \"That is good to hear\",\n",
    "    \"how can i help you?\",\n",
    "    \"Thank you.\",\n",
    "    \"You're welcome.\"\n",
    "]\n",
    "\n",
    "trainer = ListTrainer(chatbot)\n",
    "\n",
    "trainer.train(conversation)\n",
    "\n",
    "print(\"enter 'quit' to stop\")\n",
    "while True:\n",
    "  text_input = input(\"You: \")\n",
    "  if text_input == 'quit':\n",
    "       break\n",
    "  print(\"Bot:\", chatbot.get_response(text_input))"
   ]
  },
  {
   "cell_type": "code",
   "execution_count": null,
   "id": "b60e64a5",
   "metadata": {},
   "outputs": [],
   "source": []
  }
 ],
 "metadata": {
  "kernelspec": {
   "display_name": "Python 3 (ipykernel)",
   "language": "python",
   "name": "python3"
  },
  "language_info": {
   "codemirror_mode": {
    "name": "ipython",
    "version": 3
   },
   "file_extension": ".py",
   "mimetype": "text/x-python",
   "name": "python",
   "nbconvert_exporter": "python",
   "pygments_lexer": "ipython3",
   "version": "3.11.6"
  }
 },
 "nbformat": 4,
 "nbformat_minor": 5
}
