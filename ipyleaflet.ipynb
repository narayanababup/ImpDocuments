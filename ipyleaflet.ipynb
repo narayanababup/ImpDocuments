{
 "cells": [
  {
   "cell_type": "code",
   "execution_count": null,
   "id": "157f43e3",
   "metadata": {},
   "outputs": [],
   "source": [
    "conda install arcpy=3.1 -c esri"
   ]
  },
  {
   "cell_type": "code",
   "execution_count": null,
   "id": "00e11ab0",
   "metadata": {},
   "outputs": [],
   "source": [
    "pip install arcpy=3.1"
   ]
  },
  {
   "cell_type": "code",
   "execution_count": null,
   "id": "8985ec31",
   "metadata": {},
   "outputs": [],
   "source": [
    "pip install arcpy"
   ]
  },
  {
   "cell_type": "code",
   "execution_count": null,
   "id": "ce5e8b28",
   "metadata": {},
   "outputs": [],
   "source": [
    "pip install ipyleaflet"
   ]
  },
  {
   "cell_type": "code",
   "execution_count": null,
   "id": "02e6bbd4",
   "metadata": {},
   "outputs": [],
   "source": [
    "from ipyleaflet import Map, Marker\n",
    "\n",
    "center = (52.204793, 360.121558)\n",
    "\n",
    "m = Map(center=center, zoom=15)\n",
    "\n",
    "marker = Marker(location=center, draggable=True)\n",
    "m.add_layer(marker);\n",
    "print (\"test\")\n",
    "display(m)\n",
    "print (\"check\")\n",
    "# Now that the marker is on the Map, you can drag it with your mouse,\n",
    "# it will automatically update the `marker.location` attribute in Python\n",
    "\n",
    "# You can also update the marker location from Python, that will update the\n",
    "# marker location on the Map:\n",
    "marker.location = (50, 356)"
   ]
  },
  {
   "cell_type": "code",
   "execution_count": null,
   "id": "95b25eb6",
   "metadata": {},
   "outputs": [],
   "source": [
    "jupyter nbextension enable --py --sys-prefix ipyleaflet "
   ]
  },
  {
   "cell_type": "code",
   "execution_count": null,
   "id": "c5632718",
   "metadata": {},
   "outputs": [],
   "source": [
    "nbextension enable --py --sys-prefix ipyleaflet"
   ]
  },
  {
   "cell_type": "code",
   "execution_count": null,
   "id": "9fc2f176",
   "metadata": {},
   "outputs": [],
   "source": [
    "sudo jupyter nbextension enable --py --sys-prefix ipyleaflet"
   ]
  },
  {
   "cell_type": "code",
   "execution_count": null,
   "id": "e9066e53",
   "metadata": {},
   "outputs": [],
   "source": [
    "!pip install ipyleaflet\n",
    "!jupyter nbextension enable --py --sys-prefix ipyleaflet"
   ]
  },
  {
   "cell_type": "code",
   "execution_count": null,
   "id": "e0146bb7",
   "metadata": {},
   "outputs": [],
   "source": [
    "from ipyleaflet import Map, Marker, basemaps, basemap_to_tiles\n",
    "\n",
    "m = Map(\n",
    "    basemap=basemaps.OpenStreetMap.Mapnik,\n",
    "    center=(18, 95),\n",
    "    zoom=5\n",
    ")\n",
    "cities = {  \"Bad Oeynhausen\":\n",
    "              { \"latitude\":52.207851, \"longitude\":8.804030},\n",
    "            \"Detmold\":\n",
    "              { \"latitude\":51.936284, \"longitude\":8.879153},\n",
    "            \"Coburg\":\n",
    "              { \"latitude\":50.258112, \"longitude\":10.964463},\n",
    "            \"Bochum\":\n",
    "              { \"latitude\":51.481811, \"longitude\":7.219664},\n",
    "            \"Karlsbad\":\n",
    "               { \"latitude\":48.881417, \"longitude\":8.507199},\n",
    "            \"Nürnberg\":\n",
    "               { \"latitude\":49.447537, \"longitude\":11.102352},\n",
    "             \"Erlangen - Tennenlohe\":\n",
    "               { \"latitude\":49.547055, \"longitude\":11.015774}\n",
    "          }\n",
    "\n",
    "for city, coordinates in cities.items():\n",
    "\n",
    "    m.add_layer(Marker(location=(coordinates[\"latitude\"], coordinates[\"longitude\"])))\n",
    "display (m)"
   ]
  },
  {
   "cell_type": "code",
   "execution_count": null,
   "id": "c3b0e8f8",
   "metadata": {},
   "outputs": [],
   "source": []
  },
  {
   "cell_type": "code",
   "execution_count": 1,
   "id": "3833d686",
   "metadata": {},
   "outputs": [
    {
     "data": {
      "application/vnd.jupyter.widget-view+json": {
       "model_id": "9d9ce6ae06d64b28b45afd17e3657399",
       "version_major": 2,
       "version_minor": 0
      },
      "text/plain": [
       "Map(center=[18, 95], controls=(ZoomControl(options=['position', 'zoom_in_text', 'zoom_in_title', 'zoom_out_tex…"
      ]
     },
     "metadata": {},
     "output_type": "display_data"
    }
   ],
   "source": [
    "from ipyleaflet import Map, Marker, basemaps, basemap_to_tiles\n",
    "\n",
    "m = Map(\n",
    "    basemap=basemaps.OpenStreetMap.Mapnik,\n",
    "    center=(18,95),\n",
    "    zoom=5\n",
    ")\n",
    "cities = {  \"Abohar \":\n",
    "              { \"latitude\":30.1452928, \"longitude\":74.1993043},\n",
    "            \"Achalpur \":\n",
    "              { \"latitude\":21.257584, \"longitude\":77.5086754},\n",
    "            \"Adilabad \":\n",
    "              { \"latitude\":19.0809075, \"longitude\":79.560344},\n",
    "            \"Adityapur \":\n",
    "              { \"latitude\":22.7834741, \"longitude\":86.1576889},\n",
    "            \"Adoni \":\n",
    "               { \"latitude\":15.6322227, \"longitude\":77.2728368},\n",
    "            \"Agartala \":\n",
    "               { \"latitude\":23.831457, \"longitude\":91.2867777},\n",
    "            \"Agra \":\n",
    "               { \"latitude\":27.1766701, \"longitude\":78.0080745}\n",
    "          }\n",
    "\n",
    "for city, coordinates in cities.items():\n",
    "\n",
    "    m.add_layer(Marker(location=(coordinates[\"latitude\"], coordinates[\"longitude\"])))\n",
    "display (m)"
   ]
  },
  {
   "cell_type": "code",
   "execution_count": null,
   "id": "842d26f1",
   "metadata": {},
   "outputs": [],
   "source": []
  },
  {
   "cell_type": "code",
   "execution_count": null,
   "id": "0b453c0e",
   "metadata": {},
   "outputs": [],
   "source": []
  }
 ],
 "metadata": {
  "kernelspec": {
   "display_name": "Python 3 (ipykernel)",
   "language": "python",
   "name": "python3"
  },
  "language_info": {
   "codemirror_mode": {
    "name": "ipython",
    "version": 3
   },
   "file_extension": ".py",
   "mimetype": "text/x-python",
   "name": "python",
   "nbconvert_exporter": "python",
   "pygments_lexer": "ipython3",
   "version": "3.11.3"
  }
 },
 "nbformat": 4,
 "nbformat_minor": 5
}
