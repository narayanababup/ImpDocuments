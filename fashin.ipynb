{
 "cells": [
  {
   "cell_type": "code",
   "execution_count": null,
   "id": "6b7fff04",
   "metadata": {},
   "outputs": [],
   "source": [
    "pip install torchvision"
   ]
  },
  {
   "cell_type": "code",
   "execution_count": 32,
   "id": "c98ae0b2",
   "metadata": {},
   "outputs": [
    {
     "ename": "IndentationError",
     "evalue": "expected an indented block after function definition on line 20 (1481652460.py, line 21)",
     "output_type": "error",
     "traceback": [
      "\u001b[1;36m  Cell \u001b[1;32mIn[32], line 21\u001b[1;36m\u001b[0m\n\u001b[1;33m    if random.random() > 0.5:\u001b[0m\n\u001b[1;37m    ^\u001b[0m\n\u001b[1;31mIndentationError\u001b[0m\u001b[1;31m:\u001b[0m expected an indented block after function definition on line 20\n"
     ]
    }
   ],
   "source": [
    "    import torch  \n",
    "    import matplotlib.pyplot as plt  \n",
    "    import numpy as np  \n",
    "    import torchvision.transforms.functional as TF\n",
    "    import random\n",
    "    from torchvision import datasets,transforms   \n",
    "    transform1=transforms.Compose([transforms.ToTensor(),transforms.Normalize((0.5,),(0.5,))])  \n",
    "    training_dataset=datasets.FashionMNIST(root='./data',train=True,download=True,transform=transform1)  \n",
    "    #training_dataset=datasets.MNIST(root='./data',train=True,download=True,transform=transform1)  \n",
    "    training_loader=torch.utils.data.DataLoader(dataset=training_dataset,batch_size=100,shuffle=True)  \n",
    "    def im_convert(tensor):  \n",
    "        image=tensor.clone().detach().numpy()  \n",
    "        image=image.transpose(1,2,0) \n",
    "        #print (\"*** NBABU ***\")\n",
    "        print(image.shape)  \n",
    "        image=image*(np.array((0.5,0.5,0.5))+np.array((0.5,0.5,0.5)))  \n",
    "        image=image.clip(0,1)  \n",
    "        return image  \n",
    "#Sample 2\n",
    "    def my_segmentation_transforms(image, segmentation):\n",
    "    if random.random() > 0.5:\n",
    "        angle = random.randint(-30, 30)\n",
    "        image = TF.rotate(image, angle)\n",
    "        segmentation = TF.rotate(segmentation, angle)\n",
    "    # more transforms ...\n",
    "    return image, segmentation\n",
    "#Sample 2\n",
    "    dataiter=iter(training_loader)  \n",
    "    #print (dataiter)\n",
    "    images,labels = next(dataiter)\n",
    "    fig=plt.figure(figsize=(25,4))  \n",
    "    for idx in np.arange(20):  \n",
    "       # print (\"*** Nbabu ***\")\n",
    "        ax=fig.add_subplot(2,10,idx+1)  \n",
    "        plt.imshow(im_convert(images[idx]))\n",
    "        #sample 2\n",
    "        plt.imshow (my_segmentation_teansforms(images[idx],1)) \n",
    "        \n",
    "        ax.set_title([labels[idx].item()])  \n",
    "    plt.show()  \n"
   ]
  },
  {
   "cell_type": "code",
   "execution_count": null,
   "id": "5ac1199c",
   "metadata": {},
   "outputs": [],
   "source": []
  },
  {
   "cell_type": "code",
   "execution_count": null,
   "id": "a3bd19cc",
   "metadata": {},
   "outputs": [],
   "source": []
  }
 ],
 "metadata": {
  "kernelspec": {
   "display_name": "Python 3 (ipykernel)",
   "language": "python",
   "name": "python3"
  },
  "language_info": {
   "codemirror_mode": {
    "name": "ipython",
    "version": 3
   },
   "file_extension": ".py",
   "mimetype": "text/x-python",
   "name": "python",
   "nbconvert_exporter": "python",
   "pygments_lexer": "ipython3",
   "version": "3.11.3"
  }
 },
 "nbformat": 4,
 "nbformat_minor": 5
}
